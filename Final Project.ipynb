{
 "cells": [
  {
   "cell_type": "markdown",
   "id": "3355ebb3",
   "metadata": {},
   "source": [
    "# ENSF 444 Project Group 31\n",
    "\n"
   ]
  },
  {
   "cell_type": "markdown",
   "id": "6ae64dad",
   "metadata": {},
   "source": [
    "### Step 0: Import Libraries"
   ]
  },
  {
   "cell_type": "code",
   "execution_count": null,
   "id": "1653d758",
   "metadata": {},
   "outputs": [],
   "source": [
    "import numpy as np\n",
    "import pandas as pd\n",
    "import matplotlib.pyplot as plt\n",
    "import seaborn as sns\n",
    "from sklearn.model_selection import train_test_split, cross_val_score, GridSearchCV\n",
    "from sklearn.preprocessing import StandardScaler\n",
    "from sklearn.compose import ColumnTransformer\n",
    "from sklearn.pipeline import Pipeline\n",
    "from sklearn.metrics import r2_score, mean_squared_error\n",
    "import ast\n",
    "import warnings\n",
    "warnings.filterwarnings('ignore')"
   ]
  },
  {
   "cell_type": "markdown",
   "id": "5303311a",
   "metadata": {},
   "source": [
    "### Step 1: Data Input\n",
    "\n",
    "1. Download the tmdb_5000_movies.csv datset on Kaggle through this link:\n",
    "https://www.kaggle.com/datasets/tmdb/tmdb-movie-metadata/data?select=tmdb_5000_movies.csv\n",
    "\n",
    "1. Place the dataset file in the same directory as this Jupyer Notebook.\n",
    "1. Run all of the cells sequentially."
   ]
  },
  {
   "cell_type": "code",
   "execution_count": 127,
   "id": "c50ba768",
   "metadata": {},
   "outputs": [
    {
     "data": {
      "text/html": [
       "<div>\n",
       "<style scoped>\n",
       "    .dataframe tbody tr th:only-of-type {\n",
       "        vertical-align: middle;\n",
       "    }\n",
       "\n",
       "    .dataframe tbody tr th {\n",
       "        vertical-align: top;\n",
       "    }\n",
       "\n",
       "    .dataframe thead th {\n",
       "        text-align: right;\n",
       "    }\n",
       "</style>\n",
       "<table border=\"1\" class=\"dataframe\">\n",
       "  <thead>\n",
       "    <tr style=\"text-align: right;\">\n",
       "      <th></th>\n",
       "      <th>budget</th>\n",
       "      <th>genres</th>\n",
       "      <th>homepage</th>\n",
       "      <th>id</th>\n",
       "      <th>keywords</th>\n",
       "      <th>original_language</th>\n",
       "      <th>original_title</th>\n",
       "      <th>overview</th>\n",
       "      <th>popularity</th>\n",
       "      <th>production_companies</th>\n",
       "      <th>production_countries</th>\n",
       "      <th>release_date</th>\n",
       "      <th>revenue</th>\n",
       "      <th>runtime</th>\n",
       "      <th>spoken_languages</th>\n",
       "      <th>status</th>\n",
       "      <th>tagline</th>\n",
       "      <th>title</th>\n",
       "      <th>vote_average</th>\n",
       "      <th>vote_count</th>\n",
       "    </tr>\n",
       "  </thead>\n",
       "  <tbody>\n",
       "    <tr>\n",
       "      <th>0</th>\n",
       "      <td>237000000</td>\n",
       "      <td>[{\"id\": 28, \"name\": \"Action\"}, {\"id\": 12, \"nam...</td>\n",
       "      <td>http://www.avatarmovie.com/</td>\n",
       "      <td>19995.0</td>\n",
       "      <td>[{\"id\": 1463, \"name\": \"culture clash\"}, {\"id\":...</td>\n",
       "      <td>en</td>\n",
       "      <td>Avatar</td>\n",
       "      <td>In the 22nd century, a paraplegic Marine is di...</td>\n",
       "      <td>150.437577</td>\n",
       "      <td>[{\"name\": \"Ingenious Film Partners\", \"id\": 289...</td>\n",
       "      <td>[{\"iso_3166_1\": \"US\", \"name\": \"United States o...</td>\n",
       "      <td>2009-12-10</td>\n",
       "      <td>2.787965e+09</td>\n",
       "      <td>162.0</td>\n",
       "      <td>[{\"iso_639_1\": \"en\", \"name\": \"English\"}, {\"iso...</td>\n",
       "      <td>Released</td>\n",
       "      <td>Enter the World of Pandora.</td>\n",
       "      <td>Avatar</td>\n",
       "      <td>7.2</td>\n",
       "      <td>11800.0</td>\n",
       "    </tr>\n",
       "    <tr>\n",
       "      <th>1</th>\n",
       "      <td>300000000</td>\n",
       "      <td>[{\"id\": 12, \"name\": \"Adventure\"}, {\"id\": 14, \"...</td>\n",
       "      <td>http://disney.go.com/disneypictures/pirates/</td>\n",
       "      <td>285.0</td>\n",
       "      <td>[{\"id\": 270, \"name\": \"ocean\"}, {\"id\": 726, \"na...</td>\n",
       "      <td>en</td>\n",
       "      <td>Pirates of the Caribbean: At World's End</td>\n",
       "      <td>Captain Barbossa, long believed to be dead, ha...</td>\n",
       "      <td>139.082615</td>\n",
       "      <td>[{\"name\": \"Walt Disney Pictures\", \"id\": 2}, {\"...</td>\n",
       "      <td>[{\"iso_3166_1\": \"US\", \"name\": \"United States o...</td>\n",
       "      <td>2007-05-19</td>\n",
       "      <td>9.610000e+08</td>\n",
       "      <td>169.0</td>\n",
       "      <td>[{\"iso_639_1\": \"en\", \"name\": \"English\"}]</td>\n",
       "      <td>Released</td>\n",
       "      <td>At the end of the world, the adventure begins.</td>\n",
       "      <td>Pirates of the Caribbean: At World's End</td>\n",
       "      <td>6.9</td>\n",
       "      <td>4500.0</td>\n",
       "    </tr>\n",
       "    <tr>\n",
       "      <th>2</th>\n",
       "      <td>245000000</td>\n",
       "      <td>[{\"id\": 28, \"name\": \"Action\"}, {\"id\": 12, \"nam...</td>\n",
       "      <td>http://www.sonypictures.com/movies/spectre/</td>\n",
       "      <td>206647.0</td>\n",
       "      <td>[{\"id\": 470, \"name\": \"spy\"}, {\"id\": 818, \"name...</td>\n",
       "      <td>en</td>\n",
       "      <td>Spectre</td>\n",
       "      <td>A cryptic message from Bond’s past sends him o...</td>\n",
       "      <td>107.376788</td>\n",
       "      <td>[{\"name\": \"Columbia Pictures\", \"id\": 5}, {\"nam...</td>\n",
       "      <td>[{\"iso_3166_1\": \"GB\", \"name\": \"United Kingdom\"...</td>\n",
       "      <td>2015-10-26</td>\n",
       "      <td>8.806746e+08</td>\n",
       "      <td>148.0</td>\n",
       "      <td>[{\"iso_639_1\": \"fr\", \"name\": \"Fran\\u00e7ais\"},...</td>\n",
       "      <td>Released</td>\n",
       "      <td>A Plan No One Escapes</td>\n",
       "      <td>Spectre</td>\n",
       "      <td>6.3</td>\n",
       "      <td>4466.0</td>\n",
       "    </tr>\n",
       "    <tr>\n",
       "      <th>3</th>\n",
       "      <td>250000000</td>\n",
       "      <td>[{\"id\": 28, \"name\": \"Action\"}, {\"id\": 80, \"nam...</td>\n",
       "      <td>http://www.thedarkknightrises.com/</td>\n",
       "      <td>49026.0</td>\n",
       "      <td>[{\"id\": 849, \"name\": \"dc comics\"}, {\"id\": 853,...</td>\n",
       "      <td>en</td>\n",
       "      <td>The Dark Knight Rises</td>\n",
       "      <td>Following the death of District Attorney Harve...</td>\n",
       "      <td>112.312950</td>\n",
       "      <td>[{\"name\": \"Legendary Pictures\", \"id\": 923}, {\"...</td>\n",
       "      <td>[{\"iso_3166_1\": \"US\", \"name\": \"United States o...</td>\n",
       "      <td>2012-07-16</td>\n",
       "      <td>1.084939e+09</td>\n",
       "      <td>165.0</td>\n",
       "      <td>[{\"iso_639_1\": \"en\", \"name\": \"English\"}]</td>\n",
       "      <td>Released</td>\n",
       "      <td>The Legend Ends</td>\n",
       "      <td>The Dark Knight Rises</td>\n",
       "      <td>7.6</td>\n",
       "      <td>9106.0</td>\n",
       "    </tr>\n",
       "    <tr>\n",
       "      <th>4</th>\n",
       "      <td>260000000</td>\n",
       "      <td>[{\"id\": 28, \"name\": \"Action\"}, {\"id\": 12, \"nam...</td>\n",
       "      <td>http://movies.disney.com/john-carter</td>\n",
       "      <td>49529.0</td>\n",
       "      <td>[{\"id\": 818, \"name\": \"based on novel\"}, {\"id\":...</td>\n",
       "      <td>en</td>\n",
       "      <td>John Carter</td>\n",
       "      <td>John Carter is a war-weary, former military ca...</td>\n",
       "      <td>43.926995</td>\n",
       "      <td>[{\"name\": \"Walt Disney Pictures\", \"id\": 2}]</td>\n",
       "      <td>[{\"iso_3166_1\": \"US\", \"name\": \"United States o...</td>\n",
       "      <td>2012-03-07</td>\n",
       "      <td>2.841391e+08</td>\n",
       "      <td>132.0</td>\n",
       "      <td>[{\"iso_639_1\": \"en\", \"name\": \"English\"}]</td>\n",
       "      <td>Released</td>\n",
       "      <td>Lost in our world, found in another.</td>\n",
       "      <td>John Carter</td>\n",
       "      <td>6.1</td>\n",
       "      <td>2124.0</td>\n",
       "    </tr>\n",
       "  </tbody>\n",
       "</table>\n",
       "</div>"
      ],
      "text/plain": [
       "      budget                                             genres  \\\n",
       "0  237000000  [{\"id\": 28, \"name\": \"Action\"}, {\"id\": 12, \"nam...   \n",
       "1  300000000  [{\"id\": 12, \"name\": \"Adventure\"}, {\"id\": 14, \"...   \n",
       "2  245000000  [{\"id\": 28, \"name\": \"Action\"}, {\"id\": 12, \"nam...   \n",
       "3  250000000  [{\"id\": 28, \"name\": \"Action\"}, {\"id\": 80, \"nam...   \n",
       "4  260000000  [{\"id\": 28, \"name\": \"Action\"}, {\"id\": 12, \"nam...   \n",
       "\n",
       "                                       homepage        id  \\\n",
       "0                   http://www.avatarmovie.com/   19995.0   \n",
       "1  http://disney.go.com/disneypictures/pirates/     285.0   \n",
       "2   http://www.sonypictures.com/movies/spectre/  206647.0   \n",
       "3            http://www.thedarkknightrises.com/   49026.0   \n",
       "4          http://movies.disney.com/john-carter   49529.0   \n",
       "\n",
       "                                            keywords original_language  \\\n",
       "0  [{\"id\": 1463, \"name\": \"culture clash\"}, {\"id\":...                en   \n",
       "1  [{\"id\": 270, \"name\": \"ocean\"}, {\"id\": 726, \"na...                en   \n",
       "2  [{\"id\": 470, \"name\": \"spy\"}, {\"id\": 818, \"name...                en   \n",
       "3  [{\"id\": 849, \"name\": \"dc comics\"}, {\"id\": 853,...                en   \n",
       "4  [{\"id\": 818, \"name\": \"based on novel\"}, {\"id\":...                en   \n",
       "\n",
       "                             original_title  \\\n",
       "0                                    Avatar   \n",
       "1  Pirates of the Caribbean: At World's End   \n",
       "2                                   Spectre   \n",
       "3                     The Dark Knight Rises   \n",
       "4                               John Carter   \n",
       "\n",
       "                                            overview  popularity  \\\n",
       "0  In the 22nd century, a paraplegic Marine is di...  150.437577   \n",
       "1  Captain Barbossa, long believed to be dead, ha...  139.082615   \n",
       "2  A cryptic message from Bond’s past sends him o...  107.376788   \n",
       "3  Following the death of District Attorney Harve...  112.312950   \n",
       "4  John Carter is a war-weary, former military ca...   43.926995   \n",
       "\n",
       "                                production_companies  \\\n",
       "0  [{\"name\": \"Ingenious Film Partners\", \"id\": 289...   \n",
       "1  [{\"name\": \"Walt Disney Pictures\", \"id\": 2}, {\"...   \n",
       "2  [{\"name\": \"Columbia Pictures\", \"id\": 5}, {\"nam...   \n",
       "3  [{\"name\": \"Legendary Pictures\", \"id\": 923}, {\"...   \n",
       "4        [{\"name\": \"Walt Disney Pictures\", \"id\": 2}]   \n",
       "\n",
       "                                production_countries release_date  \\\n",
       "0  [{\"iso_3166_1\": \"US\", \"name\": \"United States o...   2009-12-10   \n",
       "1  [{\"iso_3166_1\": \"US\", \"name\": \"United States o...   2007-05-19   \n",
       "2  [{\"iso_3166_1\": \"GB\", \"name\": \"United Kingdom\"...   2015-10-26   \n",
       "3  [{\"iso_3166_1\": \"US\", \"name\": \"United States o...   2012-07-16   \n",
       "4  [{\"iso_3166_1\": \"US\", \"name\": \"United States o...   2012-03-07   \n",
       "\n",
       "        revenue  runtime                                   spoken_languages  \\\n",
       "0  2.787965e+09    162.0  [{\"iso_639_1\": \"en\", \"name\": \"English\"}, {\"iso...   \n",
       "1  9.610000e+08    169.0           [{\"iso_639_1\": \"en\", \"name\": \"English\"}]   \n",
       "2  8.806746e+08    148.0  [{\"iso_639_1\": \"fr\", \"name\": \"Fran\\u00e7ais\"},...   \n",
       "3  1.084939e+09    165.0           [{\"iso_639_1\": \"en\", \"name\": \"English\"}]   \n",
       "4  2.841391e+08    132.0           [{\"iso_639_1\": \"en\", \"name\": \"English\"}]   \n",
       "\n",
       "     status                                         tagline  \\\n",
       "0  Released                     Enter the World of Pandora.   \n",
       "1  Released  At the end of the world, the adventure begins.   \n",
       "2  Released                           A Plan No One Escapes   \n",
       "3  Released                                 The Legend Ends   \n",
       "4  Released            Lost in our world, found in another.   \n",
       "\n",
       "                                      title  vote_average  vote_count  \n",
       "0                                    Avatar           7.2     11800.0  \n",
       "1  Pirates of the Caribbean: At World's End           6.9      4500.0  \n",
       "2                                   Spectre           6.3      4466.0  \n",
       "3                     The Dark Knight Rises           7.6      9106.0  \n",
       "4                               John Carter           6.1      2124.0  "
      ]
     },
     "execution_count": 127,
     "metadata": {},
     "output_type": "execute_result"
    }
   ],
   "source": [
    "data = pd.read_csv('tmdb_5000_movies.csv')\n",
    "data.head()"
   ]
  },
  {
   "cell_type": "markdown",
   "id": "24ebb6fa",
   "metadata": {},
   "source": [
    "### Step 2: Data Processing"
   ]
  },
  {
   "cell_type": "code",
   "execution_count": 128,
   "id": "5bfe7a91",
   "metadata": {},
   "outputs": [
    {
     "name": "stdout",
     "output_type": "stream",
     "text": [
      "budget                     0\n",
      "genres                     9\n",
      "homepage                3103\n",
      "id                         9\n",
      "keywords                   9\n",
      "original_language          9\n",
      "original_title             9\n",
      "overview                  12\n",
      "popularity                 9\n",
      "production_companies       9\n",
      "production_countries       9\n",
      "release_date              10\n",
      "revenue                    9\n",
      "runtime                   11\n",
      "spoken_languages           9\n",
      "status                     9\n",
      "tagline                  854\n",
      "title                      9\n",
      "vote_average               9\n",
      "vote_count                 9\n",
      "dtype: int64\n"
     ]
    }
   ],
   "source": [
    "print(data.isnull().sum()) #checking for null values in the dataset"
   ]
  },
  {
   "cell_type": "code",
   "execution_count": 129,
   "id": "f7afacd5",
   "metadata": {},
   "outputs": [
    {
     "name": "stdout",
     "output_type": "stream",
     "text": [
      "\n",
      "Missing values after cleaning:\n",
      "budget               0\n",
      "genres               0\n",
      "id                   0\n",
      "original_language    0\n",
      "original_title       0\n",
      "overview             0\n",
      "popularity           0\n",
      "release_date         0\n",
      "revenue              0\n",
      "runtime              0\n",
      "status               0\n",
      "title                0\n",
      "vote_average         0\n",
      "vote_count           0\n",
      "dtype: int64\n"
     ]
    }
   ],
   "source": [
    "# Handle missing values\n",
    "data['runtime'].fillna(data['runtime'].median(), inplace=True)\n",
    "data['release_date'].fillna('2000-01-01', inplace=True)\n",
    "\n",
    "# Drop columns with many missing values or not relevant for prediction\n",
    "data.drop(['homepage', 'tagline', 'keywords', 'production_companies', \n",
    "           'production_countries', 'spoken_languages'], axis=1, inplace=True)\n",
    "\n",
    "# Drop remaining rows with missing values\n",
    "data.dropna(inplace=True)\n",
    "\n",
    "# Verify no more missing values\n",
    "print(\"\\nMissing values after cleaning:\")\n",
    "print(data.isnull().sum())"
   ]
  },
  {
   "cell_type": "markdown",
   "id": "0817c7c3",
   "metadata": {},
   "source": [
    "#### Parse JSON columns"
   ]
  },
  {
   "cell_type": "code",
   "execution_count": 130,
   "id": "f9857f1d",
   "metadata": {},
   "outputs": [],
   "source": [
    "# Parse JSON columns for genres\n",
    "data['genres_list'] = data['genres'].apply(lambda x: [item['name'] for item in ast.literal_eval(x)])\n",
    "\n",
    "# Create binary columns for top genres\n",
    "top_genres = ['Action', 'Adventure', 'Animation', 'Comedy', 'Drama', \n",
    "              'Horror', 'Romance', 'Science Fiction', 'Thriller']\n",
    "for genre in top_genres:\n",
    "    data[genre] = data['genres_list'].apply(lambda x: 1 if genre in x else 0)\n",
    "\n",
    "# Extract temporal features\n",
    "data['release_date'] = pd.to_datetime(data['release_date'])\n",
    "data['release_year'] = data['release_date'].dt.year\n",
    "data['release_month'] = data['release_date'].dt.month\n",
    "\n",
    "# Define features and target\n",
    "features = ['budget', 'runtime', 'release_year', 'release_month', \n",
    "            'Action', 'Adventure', 'Animation', 'Comedy', 'Drama', \n",
    "            'Horror', 'Romance', 'Science Fiction', 'Thriller']\n",
    "target = 'popularity'"
   ]
  },
  {
   "cell_type": "markdown",
   "id": "461e4e47",
   "metadata": {},
   "source": [
    "#### Separate data into feature matrix and target vector"
   ]
  },
  {
   "cell_type": "code",
   "execution_count": 131,
   "id": "c7935f8d",
   "metadata": {},
   "outputs": [],
   "source": [
    "X = data[features]\n",
    "y = data[target]"
   ]
  },
  {
   "cell_type": "markdown",
   "id": "c1d7b5d6",
   "metadata": {},
   "source": [
    "### Step 3: Implement Machine Learning Models"
   ]
  },
  {
   "cell_type": "code",
   "execution_count": 132,
   "id": "6b5a5506",
   "metadata": {},
   "outputs": [],
   "source": [
    "# Split the data into training and testing sets\n",
    "X_train, X_test, y_train, y_test = train_test_split(X, y, test_size=0.1, random_state=0)"
   ]
  },
  {
   "cell_type": "markdown",
   "id": "2ed3345c",
   "metadata": {},
   "source": [
    "#### Preprocessing Setup"
   ]
  },
  {
   "cell_type": "code",
   "execution_count": 133,
   "id": "ecc6fbb3",
   "metadata": {},
   "outputs": [],
   "source": [
    "# Preprocessing pipeline\n",
    "preprocessor = ColumnTransformer(\n",
    "    transformers=[\n",
    "        ('num', StandardScaler(), ['budget', 'runtime', 'release_year']),\n",
    "    ],\n",
    "    remainder='passthrough'\n",
    ")"
   ]
  },
  {
   "cell_type": "markdown",
   "id": "843cfe8c",
   "metadata": {},
   "source": [
    "#### Model 1: Linear Regression"
   ]
  },
  {
   "cell_type": "code",
   "execution_count": 134,
   "id": "80ce405b",
   "metadata": {},
   "outputs": [
    {
     "name": "stdout",
     "output_type": "stream",
     "text": [
      "Linear Regression Best Parameters: {'regressor__fit_intercept': True, 'regressor__positive': False}\n",
      "Best CV R2: 0.310\n",
      "Test R2: 0.203\n",
      "Test RMSE: 40.481\n",
      "\n"
     ]
    }
   ],
   "source": [
    "from sklearn.linear_model import LinearRegression\n",
    "\n",
    "# Pipeline\n",
    "lr_pipe = Pipeline([\n",
    "    ('preprocessor', preprocessor),\n",
    "    ('regressor', LinearRegression())\n",
    "])\n",
    "\n",
    "# Parameter grid\n",
    "lr_params = {\n",
    "    'regressor__fit_intercept': [True, False],\n",
    "    'regressor__positive': [True, False]\n",
    "}\n",
    "\n",
    "# Grid search\n",
    "lr_grid = GridSearchCV(lr_pipe, lr_params, cv=5, scoring='r2', n_jobs=-1)\n",
    "lr_grid.fit(X_train, y_train)\n",
    "\n",
    "# Results\n",
    "print(\"Linear Regression Best Parameters:\", lr_grid.best_params_)\n",
    "print(f\"Best CV R2: {lr_grid.best_score_:.3f}\")\n",
    "\n",
    "# Test evaluation\n",
    "lr_y_pred = lr_grid.predict(X_test)\n",
    "print(f\"Test R2: {r2_score(y_test, lr_y_pred):.3f}\")\n",
    "print(f\"Test RMSE: {np.sqrt(mean_squared_error(y_test, lr_y_pred)):.3f}\\n\")"
   ]
  },
  {
   "cell_type": "markdown",
   "id": "86001a8d",
   "metadata": {},
   "source": [
    "#### Model 2: Random Forest"
   ]
  },
  {
   "cell_type": "code",
   "execution_count": 136,
   "id": "81df8c33",
   "metadata": {},
   "outputs": [
    {
     "name": "stdout",
     "output_type": "stream",
     "text": [
      "Random Forest Best Parameters: {'regressor__max_depth': 10, 'regressor__min_samples_split': 2, 'regressor__n_estimators': 200}\n",
      "Best CV R2: 0.319\n",
      "Test R2: 0.315\n",
      "Test RMSE: 37.533\n",
      "\n"
     ]
    }
   ],
   "source": [
    "from sklearn.ensemble import RandomForestRegressor\n",
    "\n",
    "# Pipeline\n",
    "rf_pipe = Pipeline([\n",
    "    ('preprocessor', preprocessor),\n",
    "    ('regressor', RandomForestRegressor(random_state=42))\n",
    "])\n",
    "\n",
    "# Parameter grid\n",
    "rf_params = {\n",
    "    'regressor__n_estimators': [100, 200],\n",
    "    'regressor__max_depth': [None, 10, 20],\n",
    "    'regressor__min_samples_split': [2, 5]\n",
    "}\n",
    "\n",
    "# Grid search\n",
    "rf_grid = GridSearchCV(rf_pipe, rf_params, cv=5, scoring='r2', n_jobs=-1)\n",
    "rf_grid.fit(X_train, y_train)\n",
    "\n",
    "# Results\n",
    "print(\"Random Forest Best Parameters:\", rf_grid.best_params_)\n",
    "print(f\"Best CV R2: {rf_grid.best_score_:.3f}\")\n",
    "\n",
    "# Test evaluation\n",
    "rf_y_pred = rf_grid.predict(X_test)\n",
    "print(f\"Test R2: {r2_score(y_test, rf_y_pred):.3f}\")\n",
    "print(f\"Test RMSE: {np.sqrt(mean_squared_error(y_test, rf_y_pred)):.3f}\\n\")"
   ]
  },
  {
   "cell_type": "markdown",
   "id": "715b9d23",
   "metadata": {},
   "source": [
    "#### Model 3: SVM"
   ]
  },
  {
   "cell_type": "code",
   "execution_count": 137,
   "id": "a7bfaf4a",
   "metadata": {},
   "outputs": [
    {
     "name": "stdout",
     "output_type": "stream",
     "text": [
      "SVR Best Parameters: {'regressor__C': 10, 'regressor__epsilon': 0.2, 'regressor__kernel': 'rbf'}\n",
      "Best CV R2: 0.295\n",
      "Test R2: 0.184\n",
      "Test RMSE: 40.964\n",
      "\n"
     ]
    }
   ],
   "source": [
    "from sklearn.svm import SVR\n",
    "\n",
    "# Pipeline\n",
    "svr_pipe = Pipeline([\n",
    "    ('preprocessor', preprocessor),\n",
    "    ('regressor', SVR())\n",
    "])\n",
    "\n",
    "# Parameter grid\n",
    "svr_params = {\n",
    "    'regressor__C': [0.1, 1, 10],\n",
    "    'regressor__kernel': ['linear', 'rbf'],\n",
    "    'regressor__epsilon': [0.1, 0.2]\n",
    "}\n",
    "\n",
    "# Grid search\n",
    "svr_grid = GridSearchCV(svr_pipe, svr_params, cv=5, scoring='r2', n_jobs=-1)\n",
    "svr_grid.fit(X_train, y_train)\n",
    "\n",
    "# Results\n",
    "print(\"SVR Best Parameters:\", svr_grid.best_params_)\n",
    "print(f\"Best CV R2: {svr_grid.best_score_:.3f}\")\n",
    "\n",
    "# Test evaluation\n",
    "svr_y_pred = svr_grid.predict(X_test)\n",
    "print(f\"Test R2: {r2_score(y_test, svr_y_pred):.3f}\")\n",
    "print(f\"Test RMSE: {np.sqrt(mean_squared_error(y_test, svr_y_pred)):.3f}\\n\")\n"
   ]
  },
  {
   "cell_type": "markdown",
   "id": "787a944d",
   "metadata": {},
   "source": [
    "#### Final Model Comparison"
   ]
  },
  {
   "cell_type": "code",
   "execution_count": 138,
   "id": "27c93fb6",
   "metadata": {},
   "outputs": [
    {
     "name": "stdout",
     "output_type": "stream",
     "text": [
      "\n",
      "Model Performance Comparison:\n"
     ]
    },
    {
     "data": {
      "text/html": [
       "<div>\n",
       "<style scoped>\n",
       "    .dataframe tbody tr th:only-of-type {\n",
       "        vertical-align: middle;\n",
       "    }\n",
       "\n",
       "    .dataframe tbody tr th {\n",
       "        vertical-align: top;\n",
       "    }\n",
       "\n",
       "    .dataframe thead th {\n",
       "        text-align: right;\n",
       "    }\n",
       "</style>\n",
       "<table border=\"1\" class=\"dataframe\">\n",
       "  <thead>\n",
       "    <tr style=\"text-align: right;\">\n",
       "      <th></th>\n",
       "      <th>CV R2</th>\n",
       "      <th>Test R2</th>\n",
       "      <th>Test RMSE</th>\n",
       "    </tr>\n",
       "  </thead>\n",
       "  <tbody>\n",
       "    <tr>\n",
       "      <th>Random Forest</th>\n",
       "      <td>0.318557</td>\n",
       "      <td>0.315200</td>\n",
       "      <td>37.533197</td>\n",
       "    </tr>\n",
       "    <tr>\n",
       "      <th>Linear Regression</th>\n",
       "      <td>0.309808</td>\n",
       "      <td>0.203396</td>\n",
       "      <td>40.481335</td>\n",
       "    </tr>\n",
       "    <tr>\n",
       "      <th>SVR</th>\n",
       "      <td>0.294560</td>\n",
       "      <td>0.184268</td>\n",
       "      <td>40.964480</td>\n",
       "    </tr>\n",
       "  </tbody>\n",
       "</table>\n",
       "</div>"
      ],
      "text/plain": [
       "                      CV R2   Test R2  Test RMSE\n",
       "Random Forest      0.318557  0.315200  37.533197\n",
       "Linear Regression  0.309808  0.203396  40.481335\n",
       "SVR                0.294560  0.184268  40.964480"
      ]
     },
     "metadata": {},
     "output_type": "display_data"
    },
    {
     "data": {
      "image/png": "[encoded data removed]",
      "text/plain": [
       "<Figure size 1000x500 with 1 Axes>"
      ]
     },
     "metadata": {},
     "output_type": "display_data"
    }
   ],
   "source": [
    "results = {\n",
    "    'Linear Regression': {\n",
    "        'CV R2': lr_grid.best_score_,\n",
    "        'Test R2': r2_score(y_test, lr_y_pred),\n",
    "        'Test RMSE': np.sqrt(mean_squared_error(y_test, lr_y_pred))\n",
    "    },\n",
    "    'Random Forest': {\n",
    "        'CV R2': rf_grid.best_score_,\n",
    "        'Test R2': r2_score(y_test, rf_y_pred),\n",
    "        'Test RMSE': np.sqrt(mean_squared_error(y_test, rf_y_pred))\n",
    "    },\n",
    "    'SVR': {\n",
    "        'CV R2': svr_grid.best_score_,\n",
    "        'Test R2': r2_score(y_test, svr_y_pred),\n",
    "        'Test RMSE': np.sqrt(mean_squared_error(y_test, svr_y_pred))\n",
    "    }\n",
    "}\n",
    "\n",
    "# Create comparison table\n",
    "comparison = pd.DataFrame(results).T\n",
    "print(\"\\nModel Performance Comparison:\")\n",
    "display(comparison.sort_values('Test R2', ascending=False))\n",
    "\n",
    "# Visualization\n",
    "plt.figure(figsize=(10, 5))\n",
    "sns.barplot(x=comparison.index, y='Test R2', data=comparison)\n",
    "plt.title('Model Comparison by Test R2 Score')\n",
    "plt.ylim(0, 1)\n",
    "plt.xticks(rotation=45)\n",
    "plt.show()"
   ]
  }
 ],
 "metadata": {
  "kernelspec": {
   "display_name": "ensf-ml",
   "language": "python",
   "name": "python3"
  },
  "language_info": {
   "codemirror_mode": {
    "name": "ipython",
    "version": 3
   },
   "file_extension": ".py",
   "mimetype": "text/x-python",
   "name": "python",
   "nbconvert_exporter": "python",
   "pygments_lexer": "ipython3",
   "version": "3.12.8"
  }
 },
 "nbformat": 4,
 "nbformat_minor": 5
}
