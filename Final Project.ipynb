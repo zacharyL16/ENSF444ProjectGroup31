{
 "cells": [
  {
   "cell_type": "markdown",
   "id": "3355ebb3",
   "metadata": {},
   "source": [
    "# ENSF 444 Project Group 31\n",
    "\n"
   ]
  },
  {
   "cell_type": "markdown",
   "id": "6ae64dad",
   "metadata": {},
   "source": [
    "### Step 0: Import Libraries"
   ]
  },
  {
   "cell_type": "code",
   "execution_count": 105,
   "id": "1653d758",
   "metadata": {},
   "outputs": [],
   "source": [
    "import numpy as np\n",
    "import pandas as pd\n",
    "import matplotlib.pyplot as plt\n",
    "import seaborn as sns\n",
    "from sklearn.model_selection import train_test_split, cross_val_score\n",
    "from sklearn.preprocessing import StandardScaler\n",
    "from sklearn.compose import ColumnTransformer\n",
    "from sklearn.pipeline import Pipeline\n",
    "from sklearn.metrics import r2_score, mean_squared_error\n",
    "import ast\n",
    "import warnings\n",
    "warnings.filterwarnings('ignore')"
   ]
  },
  {
   "cell_type": "markdown",
   "id": "5303311a",
   "metadata": {},
   "source": [
    "### Step 1: Data Input\n",
    "\n",
    "The data used for this task is the TMDB 5000 Movie Dataset on Kaggle"
   ]
  },
  {
   "cell_type": "code",
   "execution_count": 106,
   "id": "c50ba768",
   "metadata": {},
   "outputs": [
    {
     "data": {
      "text/html": [
       "<div>\n",
       "<style scoped>\n",
       "    .dataframe tbody tr th:only-of-type {\n",
       "        vertical-align: middle;\n",
       "    }\n",
       "\n",
       "    .dataframe tbody tr th {\n",
       "        vertical-align: top;\n",
       "    }\n",
       "\n",
       "    .dataframe thead th {\n",
       "        text-align: right;\n",
       "    }\n",
       "</style>\n",
       "<table border=\"1\" class=\"dataframe\">\n",
       "  <thead>\n",
       "    <tr style=\"text-align: right;\">\n",
       "      <th></th>\n",
       "      <th>budget</th>\n",
       "      <th>genres</th>\n",
       "      <th>homepage</th>\n",
       "      <th>id</th>\n",
       "      <th>keywords</th>\n",
       "      <th>original_language</th>\n",
       "      <th>original_title</th>\n",
       "      <th>overview</th>\n",
       "      <th>popularity</th>\n",
       "      <th>production_companies</th>\n",
       "      <th>production_countries</th>\n",
       "      <th>release_date</th>\n",
       "      <th>revenue</th>\n",
       "      <th>runtime</th>\n",
       "      <th>spoken_languages</th>\n",
       "      <th>status</th>\n",
       "      <th>tagline</th>\n",
       "      <th>title</th>\n",
       "      <th>vote_average</th>\n",
       "      <th>vote_count</th>\n",
       "    </tr>\n",
       "  </thead>\n",
       "  <tbody>\n",
       "    <tr>\n",
       "      <th>0</th>\n",
       "      <td>237000000</td>\n",
       "      <td>[{\"id\": 28, \"name\": \"Action\"}, {\"id\": 12, \"nam...</td>\n",
       "      <td>http://www.avatarmovie.com/</td>\n",
       "      <td>19995.0</td>\n",
       "      <td>[{\"id\": 1463, \"name\": \"culture clash\"}, {\"id\":...</td>\n",
       "      <td>en</td>\n",
       "      <td>Avatar</td>\n",
       "      <td>In the 22nd century, a paraplegic Marine is di...</td>\n",
       "      <td>150.437577</td>\n",
       "      <td>[{\"name\": \"Ingenious Film Partners\", \"id\": 289...</td>\n",
       "      <td>[{\"iso_3166_1\": \"US\", \"name\": \"United States o...</td>\n",
       "      <td>2009-12-10</td>\n",
       "      <td>2.787965e+09</td>\n",
       "      <td>162.0</td>\n",
       "      <td>[{\"iso_639_1\": \"en\", \"name\": \"English\"}, {\"iso...</td>\n",
       "      <td>Released</td>\n",
       "      <td>Enter the World of Pandora.</td>\n",
       "      <td>Avatar</td>\n",
       "      <td>7.2</td>\n",
       "      <td>11800.0</td>\n",
       "    </tr>\n",
       "    <tr>\n",
       "      <th>1</th>\n",
       "      <td>300000000</td>\n",
       "      <td>[{\"id\": 12, \"name\": \"Adventure\"}, {\"id\": 14, \"...</td>\n",
       "      <td>http://disney.go.com/disneypictures/pirates/</td>\n",
       "      <td>285.0</td>\n",
       "      <td>[{\"id\": 270, \"name\": \"ocean\"}, {\"id\": 726, \"na...</td>\n",
       "      <td>en</td>\n",
       "      <td>Pirates of the Caribbean: At World's End</td>\n",
       "      <td>Captain Barbossa, long believed to be dead, ha...</td>\n",
       "      <td>139.082615</td>\n",
       "      <td>[{\"name\": \"Walt Disney Pictures\", \"id\": 2}, {\"...</td>\n",
       "      <td>[{\"iso_3166_1\": \"US\", \"name\": \"United States o...</td>\n",
       "      <td>2007-05-19</td>\n",
       "      <td>9.610000e+08</td>\n",
       "      <td>169.0</td>\n",
       "      <td>[{\"iso_639_1\": \"en\", \"name\": \"English\"}]</td>\n",
       "      <td>Released</td>\n",
       "      <td>At the end of the world, the adventure begins.</td>\n",
       "      <td>Pirates of the Caribbean: At World's End</td>\n",
       "      <td>6.9</td>\n",
       "      <td>4500.0</td>\n",
       "    </tr>\n",
       "    <tr>\n",
       "      <th>2</th>\n",
       "      <td>245000000</td>\n",
       "      <td>[{\"id\": 28, \"name\": \"Action\"}, {\"id\": 12, \"nam...</td>\n",
       "      <td>http://www.sonypictures.com/movies/spectre/</td>\n",
       "      <td>206647.0</td>\n",
       "      <td>[{\"id\": 470, \"name\": \"spy\"}, {\"id\": 818, \"name...</td>\n",
       "      <td>en</td>\n",
       "      <td>Spectre</td>\n",
       "      <td>A cryptic message from Bond’s past sends him o...</td>\n",
       "      <td>107.376788</td>\n",
       "      <td>[{\"name\": \"Columbia Pictures\", \"id\": 5}, {\"nam...</td>\n",
       "      <td>[{\"iso_3166_1\": \"GB\", \"name\": \"United Kingdom\"...</td>\n",
       "      <td>2015-10-26</td>\n",
       "      <td>8.806746e+08</td>\n",
       "      <td>148.0</td>\n",
       "      <td>[{\"iso_639_1\": \"fr\", \"name\": \"Fran\\u00e7ais\"},...</td>\n",
       "      <td>Released</td>\n",
       "      <td>A Plan No One Escapes</td>\n",
       "      <td>Spectre</td>\n",
       "      <td>6.3</td>\n",
       "      <td>4466.0</td>\n",
       "    </tr>\n",
       "    <tr>\n",
       "      <th>3</th>\n",
       "      <td>250000000</td>\n",
       "      <td>[{\"id\": 28, \"name\": \"Action\"}, {\"id\": 80, \"nam...</td>\n",
       "      <td>http://www.thedarkknightrises.com/</td>\n",
       "      <td>49026.0</td>\n",
       "      <td>[{\"id\": 849, \"name\": \"dc comics\"}, {\"id\": 853,...</td>\n",
       "      <td>en</td>\n",
       "      <td>The Dark Knight Rises</td>\n",
       "      <td>Following the death of District Attorney Harve...</td>\n",
       "      <td>112.312950</td>\n",
       "      <td>[{\"name\": \"Legendary Pictures\", \"id\": 923}, {\"...</td>\n",
       "      <td>[{\"iso_3166_1\": \"US\", \"name\": \"United States o...</td>\n",
       "      <td>2012-07-16</td>\n",
       "      <td>1.084939e+09</td>\n",
       "      <td>165.0</td>\n",
       "      <td>[{\"iso_639_1\": \"en\", \"name\": \"English\"}]</td>\n",
       "      <td>Released</td>\n",
       "      <td>The Legend Ends</td>\n",
       "      <td>The Dark Knight Rises</td>\n",
       "      <td>7.6</td>\n",
       "      <td>9106.0</td>\n",
       "    </tr>\n",
       "    <tr>\n",
       "      <th>4</th>\n",
       "      <td>260000000</td>\n",
       "      <td>[{\"id\": 28, \"name\": \"Action\"}, {\"id\": 12, \"nam...</td>\n",
       "      <td>http://movies.disney.com/john-carter</td>\n",
       "      <td>49529.0</td>\n",
       "      <td>[{\"id\": 818, \"name\": \"based on novel\"}, {\"id\":...</td>\n",
       "      <td>en</td>\n",
       "      <td>John Carter</td>\n",
       "      <td>John Carter is a war-weary, former military ca...</td>\n",
       "      <td>43.926995</td>\n",
       "      <td>[{\"name\": \"Walt Disney Pictures\", \"id\": 2}]</td>\n",
       "      <td>[{\"iso_3166_1\": \"US\", \"name\": \"United States o...</td>\n",
       "      <td>2012-03-07</td>\n",
       "      <td>2.841391e+08</td>\n",
       "      <td>132.0</td>\n",
       "      <td>[{\"iso_639_1\": \"en\", \"name\": \"English\"}]</td>\n",
       "      <td>Released</td>\n",
       "      <td>Lost in our world, found in another.</td>\n",
       "      <td>John Carter</td>\n",
       "      <td>6.1</td>\n",
       "      <td>2124.0</td>\n",
       "    </tr>\n",
       "  </tbody>\n",
       "</table>\n",
       "</div>"
      ],
      "text/plain": [
       "      budget                                             genres  \\\n",
       "0  237000000  [{\"id\": 28, \"name\": \"Action\"}, {\"id\": 12, \"nam...   \n",
       "1  300000000  [{\"id\": 12, \"name\": \"Adventure\"}, {\"id\": 14, \"...   \n",
       "2  245000000  [{\"id\": 28, \"name\": \"Action\"}, {\"id\": 12, \"nam...   \n",
       "3  250000000  [{\"id\": 28, \"name\": \"Action\"}, {\"id\": 80, \"nam...   \n",
       "4  260000000  [{\"id\": 28, \"name\": \"Action\"}, {\"id\": 12, \"nam...   \n",
       "\n",
       "                                       homepage        id  \\\n",
       "0                   http://www.avatarmovie.com/   19995.0   \n",
       "1  http://disney.go.com/disneypictures/pirates/     285.0   \n",
       "2   http://www.sonypictures.com/movies/spectre/  206647.0   \n",
       "3            http://www.thedarkknightrises.com/   49026.0   \n",
       "4          http://movies.disney.com/john-carter   49529.0   \n",
       "\n",
       "                                            keywords original_language  \\\n",
       "0  [{\"id\": 1463, \"name\": \"culture clash\"}, {\"id\":...                en   \n",
       "1  [{\"id\": 270, \"name\": \"ocean\"}, {\"id\": 726, \"na...                en   \n",
       "2  [{\"id\": 470, \"name\": \"spy\"}, {\"id\": 818, \"name...                en   \n",
       "3  [{\"id\": 849, \"name\": \"dc comics\"}, {\"id\": 853,...                en   \n",
       "4  [{\"id\": 818, \"name\": \"based on novel\"}, {\"id\":...                en   \n",
       "\n",
       "                             original_title  \\\n",
       "0                                    Avatar   \n",
       "1  Pirates of the Caribbean: At World's End   \n",
       "2                                   Spectre   \n",
       "3                     The Dark Knight Rises   \n",
       "4                               John Carter   \n",
       "\n",
       "                                            overview  popularity  \\\n",
       "0  In the 22nd century, a paraplegic Marine is di...  150.437577   \n",
       "1  Captain Barbossa, long believed to be dead, ha...  139.082615   \n",
       "2  A cryptic message from Bond’s past sends him o...  107.376788   \n",
       "3  Following the death of District Attorney Harve...  112.312950   \n",
       "4  John Carter is a war-weary, former military ca...   43.926995   \n",
       "\n",
       "                                production_companies  \\\n",
       "0  [{\"name\": \"Ingenious Film Partners\", \"id\": 289...   \n",
       "1  [{\"name\": \"Walt Disney Pictures\", \"id\": 2}, {\"...   \n",
       "2  [{\"name\": \"Columbia Pictures\", \"id\": 5}, {\"nam...   \n",
       "3  [{\"name\": \"Legendary Pictures\", \"id\": 923}, {\"...   \n",
       "4        [{\"name\": \"Walt Disney Pictures\", \"id\": 2}]   \n",
       "\n",
       "                                production_countries release_date  \\\n",
       "0  [{\"iso_3166_1\": \"US\", \"name\": \"United States o...   2009-12-10   \n",
       "1  [{\"iso_3166_1\": \"US\", \"name\": \"United States o...   2007-05-19   \n",
       "2  [{\"iso_3166_1\": \"GB\", \"name\": \"United Kingdom\"...   2015-10-26   \n",
       "3  [{\"iso_3166_1\": \"US\", \"name\": \"United States o...   2012-07-16   \n",
       "4  [{\"iso_3166_1\": \"US\", \"name\": \"United States o...   2012-03-07   \n",
       "\n",
       "        revenue  runtime                                   spoken_languages  \\\n",
       "0  2.787965e+09    162.0  [{\"iso_639_1\": \"en\", \"name\": \"English\"}, {\"iso...   \n",
       "1  9.610000e+08    169.0           [{\"iso_639_1\": \"en\", \"name\": \"English\"}]   \n",
       "2  8.806746e+08    148.0  [{\"iso_639_1\": \"fr\", \"name\": \"Fran\\u00e7ais\"},...   \n",
       "3  1.084939e+09    165.0           [{\"iso_639_1\": \"en\", \"name\": \"English\"}]   \n",
       "4  2.841391e+08    132.0           [{\"iso_639_1\": \"en\", \"name\": \"English\"}]   \n",
       "\n",
       "     status                                         tagline  \\\n",
       "0  Released                     Enter the World of Pandora.   \n",
       "1  Released  At the end of the world, the adventure begins.   \n",
       "2  Released                           A Plan No One Escapes   \n",
       "3  Released                                 The Legend Ends   \n",
       "4  Released            Lost in our world, found in another.   \n",
       "\n",
       "                                      title  vote_average  vote_count  \n",
       "0                                    Avatar           7.2     11800.0  \n",
       "1  Pirates of the Caribbean: At World's End           6.9      4500.0  \n",
       "2                                   Spectre           6.3      4466.0  \n",
       "3                     The Dark Knight Rises           7.6      9106.0  \n",
       "4                               John Carter           6.1      2124.0  "
      ]
     },
     "execution_count": 106,
     "metadata": {},
     "output_type": "execute_result"
    }
   ],
   "source": [
    "data = pd.read_csv('tmdb_5000_movies.csv')\n",
    "data.head()"
   ]
  },
  {
   "cell_type": "markdown",
   "id": "24ebb6fa",
   "metadata": {},
   "source": [
    "### Step 2: Data Processing"
   ]
  },
  {
   "cell_type": "code",
   "execution_count": 107,
   "id": "5bfe7a91",
   "metadata": {},
   "outputs": [
    {
     "name": "stdout",
     "output_type": "stream",
     "text": [
      "budget                     0\n",
      "genres                     9\n",
      "homepage                3103\n",
      "id                         9\n",
      "keywords                   9\n",
      "original_language          9\n",
      "original_title             9\n",
      "overview                  12\n",
      "popularity                 9\n",
      "production_companies       9\n",
      "production_countries       9\n",
      "release_date              10\n",
      "revenue                    9\n",
      "runtime                   11\n",
      "spoken_languages           9\n",
      "status                     9\n",
      "tagline                  854\n",
      "title                      9\n",
      "vote_average               9\n",
      "vote_count                 9\n",
      "dtype: int64\n"
     ]
    }
   ],
   "source": [
    "print(data.isnull().sum()) #checking for null values in the dataset"
   ]
  },
  {
   "cell_type": "code",
   "execution_count": 108,
   "id": "f7afacd5",
   "metadata": {},
   "outputs": [
    {
     "name": "stdout",
     "output_type": "stream",
     "text": [
      "\n",
      "Missing values after cleaning:\n",
      "budget               0\n",
      "genres               0\n",
      "id                   0\n",
      "original_language    0\n",
      "original_title       0\n",
      "overview             0\n",
      "popularity           0\n",
      "release_date         0\n",
      "revenue              0\n",
      "runtime              0\n",
      "status               0\n",
      "title                0\n",
      "vote_average         0\n",
      "vote_count           0\n",
      "dtype: int64\n"
     ]
    }
   ],
   "source": [
    "# Handle missing values\n",
    "data['runtime'].fillna(data['runtime'].median(), inplace=True)\n",
    "data['release_date'].fillna('2000-01-01', inplace=True)\n",
    "\n",
    "# Drop columns with many missing values or not relevant for prediction\n",
    "data.drop(['homepage', 'tagline', 'keywords', 'production_companies', \n",
    "           'production_countries', 'spoken_languages'], axis=1, inplace=True)\n",
    "\n",
    "# Drop remaining rows with missing values\n",
    "data.dropna(inplace=True)\n",
    "\n",
    "# Verify no more missing values\n",
    "print(\"\\nMissing values after cleaning:\")\n",
    "print(data.isnull().sum())"
   ]
  },
  {
   "cell_type": "markdown",
   "id": "0817c7c3",
   "metadata": {},
   "source": [
    "#### Parse JSON columns"
   ]
  },
  {
   "cell_type": "code",
   "execution_count": 109,
   "id": "f9857f1d",
   "metadata": {},
   "outputs": [],
   "source": [
    "# Parse JSON columns for genres\n",
    "data['genres_list'] = data['genres'].apply(lambda x: [item['name'] for item in ast.literal_eval(x)])\n",
    "\n",
    "# Create binary columns for top genres\n",
    "top_genres = ['Action', 'Adventure', 'Animation', 'Comedy', 'Drama', \n",
    "              'Horror', 'Romance', 'Science Fiction', 'Thriller']\n",
    "for genre in top_genres:\n",
    "    data[genre] = data['genres_list'].apply(lambda x: 1 if genre in x else 0)\n",
    "\n",
    "# Extract temporal features\n",
    "data['release_date'] = pd.to_datetime(data['release_date'])\n",
    "data['release_year'] = data['release_date'].dt.year\n",
    "data['release_month'] = data['release_date'].dt.month\n",
    "\n",
    "# Define features and target\n",
    "features = ['budget', 'runtime', 'release_year', 'release_month', \n",
    "            'Action', 'Adventure', 'Animation', 'Comedy', 'Drama', \n",
    "            'Horror', 'Romance', 'Science Fiction', 'Thriller']\n",
    "target = 'popularity'"
   ]
  },
  {
   "cell_type": "markdown",
   "id": "461e4e47",
   "metadata": {},
   "source": [
    "#### Separate data into feature matrix and target vector"
   ]
  },
  {
   "cell_type": "code",
   "execution_count": 110,
   "id": "c7935f8d",
   "metadata": {},
   "outputs": [],
   "source": [
    "X = data[features]\n",
    "y = data[target]"
   ]
  },
  {
   "cell_type": "markdown",
   "id": "c1d7b5d6",
   "metadata": {},
   "source": [
    "### Step 3: Implement Machine Learning Models"
   ]
  },
  {
   "cell_type": "code",
   "execution_count": 111,
   "id": "6b5a5506",
   "metadata": {},
   "outputs": [],
   "source": [
    "# Split the data into training and testing sets\n",
    "X_train, X_test, y_train, y_test = train_test_split(X, y, test_size=0.1, random_state=0)"
   ]
  },
  {
   "cell_type": "markdown",
   "id": "2ed3345c",
   "metadata": {},
   "source": [
    "#### Preprocessing Setup"
   ]
  },
  {
   "cell_type": "code",
   "execution_count": 112,
   "id": "ecc6fbb3",
   "metadata": {},
   "outputs": [],
   "source": [
    "# Preprocessing pipeline\n",
    "preprocessor = ColumnTransformer(\n",
    "    transformers=[\n",
    "        ('num', StandardScaler(), ['budget', 'runtime', 'release_year']),\n",
    "    ],\n",
    "    remainder='passthrough'\n",
    ")"
   ]
  },
  {
   "cell_type": "markdown",
   "id": "843cfe8c",
   "metadata": {},
   "source": [
    "#### Model 1: Linear Regression"
   ]
  },
  {
   "cell_type": "code",
   "execution_count": 113,
   "id": "80ce405b",
   "metadata": {},
   "outputs": [
    {
     "name": "stdout",
     "output_type": "stream",
     "text": [
      "Linear Regression Cross-validation R2 scores: [0.17046065 0.37906951 0.34355522 0.3622073  0.29374775]\n",
      "Mean CV R2: 0.310 ± 0.075\n",
      "\n",
      "Test Set Performance:\n",
      "R2 Score: 0.203\n",
      "RMSE: 40.481\n"
     ]
    },
    {
     "data": {
      "image/png": "[encoded data removed]",
      "text/plain": [
       "<Figure size 3250x250 with 13 Axes>"
      ]
     },
     "metadata": {},
     "output_type": "display_data"
    }
   ],
   "source": [
    "from sklearn.linear_model import LinearRegression\n",
    "# Create pipeline\n",
    "lr_pipeline = Pipeline([\n",
    "    ('preprocessor', preprocessor),\n",
    "    ('regressor', LinearRegression())\n",
    "])\n",
    "\n",
    "# Cross-validation\n",
    "lr_cv_scores = cross_val_score(lr_pipeline, X_train, y_train, cv=5, scoring='r2')\n",
    "print(\"Linear Regression Cross-validation R2 scores:\", lr_cv_scores)\n",
    "print(f\"Mean CV R2: {lr_cv_scores.mean():.3f} ± {lr_cv_scores.std():.3f}\")\n",
    "\n",
    "# Train and evaluate\n",
    "lr_pipeline.fit(X_train, y_train)\n",
    "lr_y_pred = lr_pipeline.predict(X_test)\n",
    "lr_r2 = r2_score(y_test, lr_y_pred)\n",
    "lr_rmse = np.sqrt(mean_squared_error(y_test, lr_y_pred))\n",
    "\n",
    "print(\"\\nTest Set Performance:\")\n",
    "print(f\"R2 Score: {lr_r2:.3f}\")\n",
    "print(f\"RMSE: {lr_rmse:.3f}\")\n",
    "\n",
    "sns.pairplot(data, y_vars=['popularity'], x_vars=X.columns)\n",
    "plt.show()"
   ]
  },
  {
   "cell_type": "markdown",
   "id": "86001a8d",
   "metadata": {},
   "source": [
    "#### Model 2: Random Forest"
   ]
  },
  {
   "cell_type": "code",
   "execution_count": 114,
   "id": "81df8c33",
   "metadata": {},
   "outputs": [],
   "source": [
    "from sklearn.ensemble import RandomForestClassifier\n",
    "\n",
    "rfc = RandomForestClassifier(random_state=0, max_depth=10)\n"
   ]
  },
  {
   "cell_type": "markdown",
   "id": "715b9d23",
   "metadata": {},
   "source": [
    "#### Model 3: SVM"
   ]
  }
 ],
 "metadata": {
  "kernelspec": {
   "display_name": "ensf-ml",
   "language": "python",
   "name": "python3"
  },
  "language_info": {
   "codemirror_mode": {
    "name": "ipython",
    "version": 3
   },
   "file_extension": ".py",
   "mimetype": "text/x-python",
   "name": "python",
   "nbconvert_exporter": "python",
   "pygments_lexer": "ipython3",
   "version": "3.12.8"
  }
 },
 "nbformat": 4,
 "nbformat_minor": 5
}
